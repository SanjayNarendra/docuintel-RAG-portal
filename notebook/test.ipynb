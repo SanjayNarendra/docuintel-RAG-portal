{
 "cells": [
  {
   "cell_type": "code",
   "execution_count": 2,
   "id": "526694fc",
   "metadata": {},
   "outputs": [],
   "source": [
    "import os\n",
    "from pathlib import Path"
   ]
  },
  {
   "cell_type": "code",
   "execution_count": 8,
   "id": "de2bd3fb",
   "metadata": {},
   "outputs": [
    {
     "name": "stderr",
     "output_type": "stream",
     "text": [
      "{\"config_path\": \"config\\\\config.yaml\", \"timestamp\": \"2025-09-08T20:40:16.274345Z\", \"level\": \"info\", \"event\": \"Configuration file loaded successfully\"}\n"
     ]
    }
   ],
   "source": [
    "from utils.config_loader import load_config"
   ]
  },
  {
   "cell_type": "code",
   "execution_count": 4,
   "id": "50574c0f",
   "metadata": {},
   "outputs": [
    {
     "ename": "NameError",
     "evalue": "name 'config_loader' is not defined",
     "output_type": "error",
     "traceback": [
      "\u001b[1;31m---------------------------------------------------------------------------\u001b[0m",
      "\u001b[1;31mNameError\u001b[0m                                 Traceback (most recent call last)",
      "Cell \u001b[1;32mIn[4], line 1\u001b[0m\n\u001b[1;32m----> 1\u001b[0m config \u001b[38;5;241m=\u001b[39m \u001b[43mconfig_loader\u001b[49m()\n",
      "\u001b[1;31mNameError\u001b[0m: name 'config_loader' is not defined"
     ]
    }
   ],
   "source": [
    "config = config_loader()"
   ]
  },
  {
   "cell_type": "code",
   "execution_count": null,
   "id": "76197592",
   "metadata": {},
   "outputs": [],
   "source": []
  }
 ],
 "metadata": {
  "kernelspec": {
   "display_name": "Python 3",
   "language": "python",
   "name": "python3"
  },
  "language_info": {
   "codemirror_mode": {
    "name": "ipython",
    "version": 3
   },
   "file_extension": ".py",
   "mimetype": "text/x-python",
   "name": "python",
   "nbconvert_exporter": "python",
   "pygments_lexer": "ipython3",
   "version": "3.10.18"
  }
 },
 "nbformat": 4,
 "nbformat_minor": 5
}
